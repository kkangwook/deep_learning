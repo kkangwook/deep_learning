{
 "cells": [
  {
   "cell_type": "markdown",
   "id": "b160eaf1-c9bc-49f6-b258-47c14248cd47",
   "metadata": {},
   "source": [
    "# 패키지 설치"
   ]
  },
  {
   "cell_type": "code",
   "execution_count": null,
   "id": "77fadd91-ae64-444b-ac5e-94b5e7f11655",
   "metadata": {},
   "outputs": [],
   "source": [
    "!pip install torch torchvision torchaudio"
   ]
  },
  {
   "cell_type": "code",
   "execution_count": 3,
   "id": "db17c4db-e69d-4417-b0f2-4a862839eeaf",
   "metadata": {},
   "outputs": [],
   "source": [
    "import torch"
   ]
  },
  {
   "cell_type": "markdown",
   "id": "72b4650e-d2b4-4dd4-875a-051a8b417677",
   "metadata": {},
   "source": [
    "# 1. 텐서 만들기\n",
    "- torch.tensor : np.array()같은거"
   ]
  },
  {
   "cell_type": "markdown",
   "id": "c8df3ad2-1bf5-49aa-b250-4d24397d16d9",
   "metadata": {},
   "source": [
    "### - 0차원 텐서=스칼라값"
   ]
  },
  {
   "cell_type": "code",
   "execution_count": 49,
   "id": "d0849740-1790-4de4-8ade-be07513976de",
   "metadata": {},
   "outputs": [
    {
     "data": {
      "text/plain": [
       "tensor(32)"
      ]
     },
     "execution_count": 49,
     "metadata": {},
     "output_type": "execute_result"
    }
   ],
   "source": [
    "torch.tensor(32)"
   ]
  },
  {
   "cell_type": "markdown",
   "id": "682b0da7-763f-4d97-9700-b0c70ec57a89",
   "metadata": {},
   "source": [
    "### - 1차원 텐서=벡터"
   ]
  },
  {
   "cell_type": "code",
   "execution_count": 44,
   "id": "d132573a-718e-43b7-b009-e769f15ff89e",
   "metadata": {},
   "outputs": [
    {
     "name": "stdout",
     "output_type": "stream",
     "text": [
      "tensor([0., 1., 2., 3., 4., 5., 6.]) tensor([0, 1, 2, 3, 4, 5, 6]) tensor([0., 1., 2., 3., 4., 5., 6.])\n",
      "1\n",
      "torch.Size([7])\n",
      "torch.Size([7])\n"
     ]
    }
   ],
   "source": [
    "t1 = torch.tensor([0., 1., 2., 3., 4., 5., 6.]) # float32\n",
    "t2 = torch.tensor([0,1,2,3,4,5,6]) # int64\n",
    "t3 = torch.tensor([0,1,2,3,4,5,6],dtype=torch.float32) # float으로 변환\n",
    "print(t1,t2,t3)\n",
    "\n",
    "print(t.dim())  # rank. 즉, 차원\n",
    "print(t.shape)  # shape\n",
    "print(t.size()) # shape이랑 동일"
   ]
  },
  {
   "cell_type": "markdown",
   "id": "ca679fec-d7d8-4980-9827-831c5d8a4878",
   "metadata": {},
   "source": [
    "### 인덱싱, 슬라이싱 가능"
   ]
  },
  {
   "cell_type": "code",
   "execution_count": 8,
   "id": "b59c1b34-a378-477e-9345-fb9e574aac64",
   "metadata": {},
   "outputs": [
    {
     "name": "stdout",
     "output_type": "stream",
     "text": [
      "tensor(0.) tensor(1.) tensor(6.)\n",
      "tensor([2., 3., 4.]) tensor([4., 5.])\n",
      "tensor([0., 1.]) tensor([3., 4., 5., 6.])\n"
     ]
    }
   ],
   "source": [
    "print(t[0], t[1], t[-1])  # 인덱스로 접근\n",
    "print(t[2:5], t[4:-1])    # 슬라이싱\n",
    "print(t[:2], t[3:])       # 슬라이싱"
   ]
  },
  {
   "cell_type": "markdown",
   "id": "99f14b54-5964-4cf3-8676-1d03e749bf62",
   "metadata": {},
   "source": [
    "### - 2차원 텐서=행렬"
   ]
  },
  {
   "cell_type": "code",
   "execution_count": 45,
   "id": "6e6ce72d-b27b-4ada-ad48-d8abe62de249",
   "metadata": {},
   "outputs": [
    {
     "name": "stdout",
     "output_type": "stream",
     "text": [
      "tensor([[ 1.,  2.,  3.],\n",
      "        [ 4.,  5.,  6.],\n",
      "        [ 7.,  8.,  9.],\n",
      "        [10., 11., 12.]])\n",
      "2\n",
      "torch.Size([4, 3])\n",
      "torch.Size([4, 3])\n"
     ]
    }
   ],
   "source": [
    "t = torch.tensor([[1., 2., 3.],\n",
    "                  [4., 5., 6.],\n",
    "                  [7., 8., 9.],\n",
    "                  [10., 11., 12.]])\n",
    "print(t)\n",
    "print(t.dim())  # rank. 즉, 차원\n",
    "print(t.shape)  # shape\n",
    "print(t.size()) # shape"
   ]
  },
  {
   "cell_type": "markdown",
   "id": "48c3903f-3a58-4e5e-b0b1-70fb8e2bf8d6",
   "metadata": {},
   "source": [
    "### 인덱싱 슬라이싱 -> 넘파이랑 동일"
   ]
  },
  {
   "cell_type": "code",
   "execution_count": 18,
   "id": "4a2cb4d8-8ee1-445b-84a9-45043303777c",
   "metadata": {},
   "outputs": [
    {
     "data": {
      "text/plain": [
       "tensor([1., 5.])"
      ]
     },
     "execution_count": 18,
     "metadata": {},
     "output_type": "execute_result"
    }
   ],
   "source": [
    "t[[0,1],[0,1]] #각 각 하나씩만"
   ]
  },
  {
   "cell_type": "code",
   "execution_count": 20,
   "id": "86f771fc-e06d-4065-b7eb-932d0c4851da",
   "metadata": {},
   "outputs": [
    {
     "data": {
      "text/plain": [
       "tensor([[1., 2.],\n",
       "        [4., 5.]])"
      ]
     },
     "execution_count": 20,
     "metadata": {},
     "output_type": "execute_result"
    }
   ],
   "source": [
    "t[[0,1]][:,[0,1]] # 이렇게하면 R처럼 가져올수있음"
   ]
  },
  {
   "cell_type": "code",
   "execution_count": 22,
   "id": "b499cda0-784b-4c3f-b7ab-14bac1e01447",
   "metadata": {},
   "outputs": [
    {
     "data": {
      "text/plain": [
       "tensor([5., 6.])"
      ]
     },
     "execution_count": 22,
     "metadata": {},
     "output_type": "execute_result"
    }
   ],
   "source": [
    "t[1,[1,2]] # 아니면 한쪽이 하나만"
   ]
  },
  {
   "cell_type": "code",
   "execution_count": 24,
   "id": "6643e57f-90ae-4ed4-b518-335eaed72859",
   "metadata": {},
   "outputs": [
    {
     "data": {
      "text/plain": [
       "tensor([[ 2.,  3.],\n",
       "        [ 5.,  6.],\n",
       "        [ 8.,  9.],\n",
       "        [11., 12.]])"
      ]
     },
     "execution_count": 24,
     "metadata": {},
     "output_type": "execute_result"
    }
   ],
   "source": [
    "t[:,[1,2]] #아니면 최소 한쪽이 ':'일떄"
   ]
  },
  {
   "cell_type": "markdown",
   "id": "9afcc7bc-edb9-4ed8-b1ff-ebf306eeaaa8",
   "metadata": {},
   "source": [
    "## - 다양한 텐서 만드는 방법들"
   ]
  },
  {
   "cell_type": "code",
   "execution_count": 57,
   "id": "27a78217-5df8-416d-866c-fa56622d5f70",
   "metadata": {},
   "outputs": [
    {
     "data": {
      "text/plain": [
       "tensor([[1, 2, 3, 4],\n",
       "        [5, 6, 7, 8]])"
      ]
     },
     "execution_count": 57,
     "metadata": {},
     "output_type": "execute_result"
    }
   ],
   "source": [
    "torch.arange(start=1, end=9, step=1).reshape(2,4) # np.arange"
   ]
  },
  {
   "cell_type": "code",
   "execution_count": 59,
   "id": "43b53ab8-9cda-4532-a54f-6b8eedd5203b",
   "metadata": {},
   "outputs": [
    {
     "data": {
      "text/plain": [
       "tensor([[ 0.0000,  0.9091,  1.8182,  2.7273],\n",
       "        [ 3.6364,  4.5455,  5.4545,  6.3636],\n",
       "        [ 7.2727,  8.1818,  9.0909, 10.0000]])"
      ]
     },
     "execution_count": 59,
     "metadata": {},
     "output_type": "execute_result"
    }
   ],
   "source": [
    "torch.linspace(start=0, end=10, steps=12).reshape(3,4) # np.linspace"
   ]
  },
  {
   "cell_type": "code",
   "execution_count": 60,
   "id": "aaaad5b4-bc3c-4513-bde5-81a0e0b5bb2c",
   "metadata": {},
   "outputs": [
    {
     "data": {
      "text/plain": [
       "tensor([[[0.],\n",
       "         [0.]],\n",
       "\n",
       "        [[0.],\n",
       "         [0.]],\n",
       "\n",
       "        [[0.],\n",
       "         [0.]]])"
      ]
     },
     "execution_count": 60,
     "metadata": {},
     "output_type": "execute_result"
    }
   ],
   "source": [
    "torch.zeros(size=(3,2,1))"
   ]
  },
  {
   "cell_type": "code",
   "execution_count": 61,
   "id": "34c24968-d664-413f-9f88-a0efc4a96cdd",
   "metadata": {},
   "outputs": [
    {
     "data": {
      "text/plain": [
       "tensor([[[1., 1., 1.],\n",
       "         [1., 1., 1.]]])"
      ]
     },
     "execution_count": 61,
     "metadata": {},
     "output_type": "execute_result"
    }
   ],
   "source": [
    "torch.ones(size=(1,2,3))"
   ]
  },
  {
   "cell_type": "code",
   "execution_count": 62,
   "id": "e8dc8b83-c766-4164-96fd-684883c7c6f6",
   "metadata": {},
   "outputs": [
    {
     "data": {
      "text/plain": [
       "tensor([[7, 7, 7],\n",
       "        [7, 7, 7]])"
      ]
     },
     "execution_count": 62,
     "metadata": {},
     "output_type": "execute_result"
    }
   ],
   "source": [
    "torch.full(size=(2,3), fill_value=7) # value로 전부 채우기"
   ]
  },
  {
   "cell_type": "markdown",
   "id": "d79309fa-81b3-4cab-92d7-c045f53bd926",
   "metadata": {},
   "source": [
    "### - 넘파이 값을 넣어도 됌"
   ]
  },
  {
   "cell_type": "code",
   "execution_count": 81,
   "id": "f0d19f80-d77b-4d1b-8265-08a66d10cde1",
   "metadata": {},
   "outputs": [
    {
     "data": {
      "text/plain": [
       "tensor([[[ 0,  1,  2],\n",
       "         [ 3,  4,  5]],\n",
       "\n",
       "        [[ 6,  7,  8],\n",
       "         [ 9, 10, 11]]], dtype=torch.int32)"
      ]
     },
     "execution_count": 81,
     "metadata": {},
     "output_type": "execute_result"
    }
   ],
   "source": [
    "import numpy as np\n",
    "t = np.array([[[0, 1, 2],\n",
    "               [3, 4, 5]],\n",
    "              [[6, 7, 8],\n",
    "               [9, 10, 11]]])\n",
    "ft = torch.tensor(t)\n",
    "ft"
   ]
  },
  {
   "cell_type": "markdown",
   "id": "f9b1ee63-c416-424c-9fd0-ac293795b75b",
   "metadata": {},
   "source": [
    "# 2. 브로드 캐스팅"
   ]
  },
  {
   "cell_type": "markdown",
   "id": "9394d462-b1db-42d1-8dc9-cebf889199ff",
   "metadata": {},
   "source": [
    "### 같은 크기 연산"
   ]
  },
  {
   "cell_type": "code",
   "execution_count": 46,
   "id": "13fb5bd2-a9e7-46f3-8e7b-4ee38463b0b0",
   "metadata": {},
   "outputs": [
    {
     "data": {
      "text/plain": [
       "tensor([[5, 7]])"
      ]
     },
     "execution_count": 46,
     "metadata": {},
     "output_type": "execute_result"
    }
   ],
   "source": [
    "m1 = torch.tensor([[3, 3]])\n",
    "m2 = torch.tensor([[2, 4]])\n",
    "m1 + m2 # 같은 위치끼리"
   ]
  },
  {
   "cell_type": "markdown",
   "id": "6c2aa715-64b7-41ce-90b4-0d48c3905fcf",
   "metadata": {},
   "source": [
    "### 같은 차원이라도 shape다르면 하나가 1이어야함 !!!"
   ]
  },
  {
   "cell_type": "code",
   "execution_count": 55,
   "id": "867c6b30-a885-4b30-8357-94e11f19d4c0",
   "metadata": {},
   "outputs": [
    {
     "name": "stdout",
     "output_type": "stream",
     "text": [
      "tensor([[4, 5],\n",
      "        [5, 6]])\n"
     ]
    }
   ],
   "source": [
    "# 2 x 1 Vector + 1 x 2 Vector\n",
    "m1 = torch.tensor([[1, 2]])\n",
    "m2 = torch.tensor([[3], [4]])\n",
    "print(m1+m2) # (1,2)+(2, -> [1,2]+[3,3]  -> (2,2)로\n",
    "             #        1)    [1,2] [4,4]"
   ]
  },
  {
   "cell_type": "markdown",
   "id": "05d6ee5d-f982-41ff-a64f-c494d7ff7b3d",
   "metadata": {},
   "source": [
    "### 다른 차원 연산\n",
    "- shape해서 각 차원끼리 비교했을때 서로 같거나 하나가 1이어야함!!!!!  \n",
    "ex) (2, 3, 4)+(3, 1) 가능\n",
    "- (2,3,4)\n",
    "- (1,3,1)"
   ]
  },
  {
   "cell_type": "code",
   "execution_count": 51,
   "id": "eba8f74f-b83a-4f1d-8904-847b06f83da4",
   "metadata": {},
   "outputs": [
    {
     "data": {
      "text/plain": [
       "tensor([[4, 5]])"
      ]
     },
     "execution_count": 51,
     "metadata": {},
     "output_type": "execute_result"
    }
   ],
   "source": [
    "# matrix + vector(scalar도 가능)\n",
    "m1 = torch.tensor([[1, 2]])\n",
    "m2 = torch.tensor([3]) # [3]을 -> [3, 3]로 변형\n",
    "m1 + m2   #  "
   ]
  },
  {
   "cell_type": "code",
   "execution_count": 52,
   "id": "bc1098a9-43a6-4a20-882c-14120e07ecd9",
   "metadata": {},
   "outputs": [
    {
     "data": {
      "text/plain": [
       "tensor([[[4, 7],\n",
       "         [4, 7],\n",
       "         [4, 7]],\n",
       "\n",
       "        [[4, 7],\n",
       "         [4, 7],\n",
       "         [4, 7]]])"
      ]
     },
     "execution_count": 52,
     "metadata": {},
     "output_type": "execute_result"
    }
   ],
   "source": [
    "# 3차원텐서 + 행렬 \n",
    "m1 = torch.tensor([[[1, 2],[1, 2],[1, 2]],[[1, 2],[1, 2],[1, 2]]]) # (2,3,2)\n",
    "m2 = torch.tensor([[3,5]]) # (1,2)\n",
    "m1+m2   # (2,3,2)+(1,1,2)라서 가능 -> (2,3,2)로"
   ]
  },
  {
   "cell_type": "markdown",
   "id": "e82fc1d8-1ac2-4ae1-98e0-890cba1bd702",
   "metadata": {},
   "source": [
    "# 3. 여러 기능들"
   ]
  },
  {
   "cell_type": "code",
   "execution_count": 70,
   "id": "7adb0aac-d8f0-4ea8-8137-c4e961798fb9",
   "metadata": {},
   "outputs": [],
   "source": [
    "m1 = torch.tensor([[1, 2], [3, 4]]) # (2,2)\n",
    "m2 = torch.tensor([[1], [2]])  # (2,1)\n",
    "m3=m1*m2"
   ]
  },
  {
   "cell_type": "markdown",
   "id": "30530f0c-e827-4492-a1c3-bd3ef00910c1",
   "metadata": {},
   "source": [
    "### 사칙연산\n",
    "- shape이 같거나 하나가 1이면 가능 !!!"
   ]
  },
  {
   "cell_type": "code",
   "execution_count": 71,
   "id": "3c8a2d77-0c14-4963-9fec-0cac55e61024",
   "metadata": {},
   "outputs": [
    {
     "data": {
      "text/plain": [
       "tensor([[1.0000, 2.0000],\n",
       "        [1.5000, 2.0000]])"
      ]
     },
     "execution_count": 71,
     "metadata": {},
     "output_type": "execute_result"
    }
   ],
   "source": [
    "torch.add(m1, m2)       # m1.mul(m2) 도 가능\n",
    "torch.sub(m1, m2)       # m1.sub(m2)\n",
    "torch.mul(m1, m2)       # m1.mul(m2)\n",
    "torch.div(m1, m2)       # m1.div(m2)"
   ]
  },
  {
   "cell_type": "markdown",
   "id": "76401628-e412-44af-983d-fd184b51147b",
   "metadata": {},
   "source": [
    "### 행렬곱"
   ]
  },
  {
   "cell_type": "code",
   "execution_count": 72,
   "id": "1bb801cd-9ddd-4b92-a000-60aeb6e0400b",
   "metadata": {},
   "outputs": [
    {
     "data": {
      "text/plain": [
       "(tensor([[ 5],\n",
       "         [11]]),\n",
       " tensor([[ 5],\n",
       "         [11]]),\n",
       " tensor([[ 5],\n",
       "         [11]]))"
      ]
     },
     "execution_count": 72,
     "metadata": {},
     "output_type": "execute_result"
    }
   ],
   "source": [
    "torch.matmul(m1,m2), m1.matmul(m2), m1@m2 #전부 가능"
   ]
  },
  {
   "cell_type": "markdown",
   "id": "4b36f361-2220-4897-8053-7153701c4458",
   "metadata": {},
   "source": [
    "### 집계함수\n",
    "- dim옵션이 axis의 역할(numpy에서의 축과 동일)\n",
    "- sum, mean, max, min, std, var, argmax등"
   ]
  },
  {
   "cell_type": "code",
   "execution_count": 75,
   "id": "a7c2226c-5051-4caf-96a0-dd1eff24dd73",
   "metadata": {},
   "outputs": [
    {
     "data": {
      "text/plain": [
       "tensor([[1, 2],\n",
       "        [6, 8]])"
      ]
     },
     "execution_count": 75,
     "metadata": {},
     "output_type": "execute_result"
    }
   ],
   "source": [
    "m3"
   ]
  },
  {
   "cell_type": "code",
   "execution_count": 76,
   "id": "373cc0df-bbd1-44cf-b0de-227955b6bcc9",
   "metadata": {},
   "outputs": [
    {
     "data": {
      "text/plain": [
       "tensor(17)"
      ]
     },
     "execution_count": 76,
     "metadata": {},
     "output_type": "execute_result"
    }
   ],
   "source": [
    "m3.sum() # 전부"
   ]
  },
  {
   "cell_type": "code",
   "execution_count": 77,
   "id": "b8597342-a2de-4bcf-8998-caeaaad20623",
   "metadata": {},
   "outputs": [
    {
     "data": {
      "text/plain": [
       "tensor([ 7, 10])"
      ]
     },
     "execution_count": 77,
     "metadata": {},
     "output_type": "execute_result"
    }
   ],
   "source": [
    "m3.sum(dim=0) # 밑으로(행끼리)"
   ]
  },
  {
   "cell_type": "code",
   "execution_count": 78,
   "id": "2e026ed4-bcb6-4af5-acc6-071e52c1fd80",
   "metadata": {},
   "outputs": [
    {
     "data": {
      "text/plain": [
       "tensor([ 3, 14])"
      ]
     },
     "execution_count": 78,
     "metadata": {},
     "output_type": "execute_result"
    }
   ],
   "source": [
    "m3.sum(dim=1) # 옆으로(열끼리)"
   ]
  },
  {
   "cell_type": "code",
   "execution_count": 79,
   "id": "8b6c073d-6275-4335-8c9f-0c9ae93815cf",
   "metadata": {},
   "outputs": [
    {
     "data": {
      "text/plain": [
       "tensor([ 3, 14])"
      ]
     },
     "execution_count": 79,
     "metadata": {},
     "output_type": "execute_result"
    }
   ],
   "source": [
    "m3.sum(dim=-1) # 마지막 축 기준으로"
   ]
  },
  {
   "cell_type": "markdown",
   "id": "9d83452e-f538-4955-8c0b-804daf657f41",
   "metadata": {},
   "source": [
    "# 4. 모양변경, 합치기"
   ]
  },
  {
   "cell_type": "code",
   "execution_count": 83,
   "id": "91c6a518-2e35-4013-8b33-6ad6b9a8f3ce",
   "metadata": {},
   "outputs": [
    {
     "data": {
      "text/plain": [
       "torch.Size([2, 2, 3])"
      ]
     },
     "execution_count": 83,
     "metadata": {},
     "output_type": "execute_result"
    }
   ],
   "source": [
    "t = torch.tensor([[[0, 1, 2],\n",
    "                   [3, 4, 5]],\n",
    "                  [[6, 7, 8],\n",
    "                   [9, 10, 11]]])\n",
    "t.shape"
   ]
  },
  {
   "cell_type": "markdown",
   "id": "cf68f89f-3124-4bd7-9828-30b0b728ce99",
   "metadata": {},
   "source": [
    "### reshape"
   ]
  },
  {
   "cell_type": "code",
   "execution_count": 84,
   "id": "63d975c8-4fae-4d38-9297-ac871b50c99b",
   "metadata": {},
   "outputs": [
    {
     "data": {
      "text/plain": [
       "tensor([[[ 0,  1,  2,  3,  4,  5]],\n",
       "\n",
       "        [[ 6,  7,  8,  9, 10, 11]]])"
      ]
     },
     "execution_count": 84,
     "metadata": {},
     "output_type": "execute_result"
    }
   ],
   "source": [
    "t.reshape(2,1,6) # 넘파이처럼 reshape하면 됨"
   ]
  },
  {
   "cell_type": "code",
   "execution_count": 85,
   "id": "aaff61c1-b60e-4ff6-a614-eecf807effcf",
   "metadata": {},
   "outputs": [
    {
     "data": {
      "text/plain": [
       "tensor([[ 0,  1,  2,  3],\n",
       "        [ 4,  5,  6,  7],\n",
       "        [ 8,  9, 10, 11]])"
      ]
     },
     "execution_count": 85,
     "metadata": {},
     "output_type": "execute_result"
    }
   ],
   "source": [
    "t.reshape(-1,4) # 차원 축소도 가능, -1이면 남는 만큼을 할당"
   ]
  },
  {
   "cell_type": "markdown",
   "id": "31566b32-7978-4fcd-aa70-a2912c1ec608",
   "metadata": {},
   "source": [
    "### squeeze: 1인 차원으로 제거"
   ]
  },
  {
   "cell_type": "code",
   "execution_count": 87,
   "id": "1fd0c177-bfd0-413b-9ba8-00aac5d9fbfb",
   "metadata": {},
   "outputs": [
    {
     "data": {
      "text/plain": [
       "torch.Size([2, 6])"
      ]
     },
     "execution_count": 87,
     "metadata": {},
     "output_type": "execute_result"
    }
   ],
   "source": [
    "sq=t.reshape(2,1,6)\n",
    "sq.squeeze().shape"
   ]
  },
  {
   "cell_type": "markdown",
   "id": "0f891cc8-bff2-4eb0-9949-fc99c2e43197",
   "metadata": {},
   "source": [
    "### unsqueeze: 1인 차원으로 추가"
   ]
  },
  {
   "cell_type": "code",
   "execution_count": 88,
   "id": "277f45e5-4564-43f6-a456-bc33505d2e6f",
   "metadata": {},
   "outputs": [
    {
     "data": {
      "text/plain": [
       "torch.Size([1, 2, 2, 3])"
      ]
     },
     "execution_count": 88,
     "metadata": {},
     "output_type": "execute_result"
    }
   ],
   "source": [
    "uns=t.unsqueeze(dim=0) # n번째 차원에 1인 차원으로 추가\n",
    "uns.shape"
   ]
  },
  {
   "cell_type": "markdown",
   "id": "80728bb8-28c2-4430-8188-e923b0987e05",
   "metadata": {},
   "source": [
    "### cat: 텐서붙이기"
   ]
  },
  {
   "cell_type": "code",
   "execution_count": 89,
   "id": "a2db33cc-116e-45be-a65e-329ab7469a4c",
   "metadata": {},
   "outputs": [],
   "source": [
    "x = torch.tensor([[1, 2], [3, 4]]) # (2,2)\n",
    "y = torch.tensor([[5, 6], [7, 8]]) # (2,2)"
   ]
  },
  {
   "cell_type": "code",
   "execution_count": 95,
   "id": "17015e23-1192-4cf0-acc7-4bf1624e4b4a",
   "metadata": {},
   "outputs": [
    {
     "data": {
      "text/plain": [
       "tensor([[1, 2],\n",
       "        [3, 4],\n",
       "        [5, 6],\n",
       "        [7, 8]])"
      ]
     },
     "execution_count": 95,
     "metadata": {},
     "output_type": "execute_result"
    }
   ],
   "source": [
    "torch.cat([x,y],dim=0) #(4,2)  첫번째 차원 늘리기-> 행방향인 밑으로"
   ]
  },
  {
   "cell_type": "code",
   "execution_count": 96,
   "id": "396109b1-a962-472d-98d2-6e2e4d3ca540",
   "metadata": {},
   "outputs": [
    {
     "data": {
      "text/plain": [
       "tensor([[1, 2, 5, 6],\n",
       "        [3, 4, 7, 8]])"
      ]
     },
     "execution_count": 96,
     "metadata": {},
     "output_type": "execute_result"
    }
   ],
   "source": [
    "torch.cat([x,y],dim=1) #(2,4) 두번째 차원으로 늘리기 -> 열방향인 옆으로"
   ]
  },
  {
   "cell_type": "markdown",
   "id": "4a4ad9fc-a563-48b1-836a-5da927860b1b",
   "metadata": {},
   "source": [
    "### stack: 새로운 차원 생성하면서 붙이기\n",
    "- n차원간의 stack이면 dim은 0부터 n까지 존재"
   ]
  },
  {
   "cell_type": "code",
   "execution_count": 102,
   "id": "baa7a49a-b4c8-4b72-81d9-500244aa0162",
   "metadata": {},
   "outputs": [
    {
     "data": {
      "text/plain": [
       "(torch.Size([2, 2, 2]),\n",
       " tensor([[[1, 2],\n",
       "          [3, 4]],\n",
       " \n",
       "         [[5, 6],\n",
       "          [7, 8]]]))"
      ]
     },
     "execution_count": 102,
     "metadata": {},
     "output_type": "execute_result"
    }
   ],
   "source": [
    "s1=torch.stack([x,y],dim=0) # 가장 바깥 차원에 새 축 추가 → x, y가 위아래로 쌓임\n",
    "s1.shape, s1"
   ]
  },
  {
   "cell_type": "code",
   "execution_count": 103,
   "id": "3c86f994-a29b-49c9-a6d8-734abc85f044",
   "metadata": {},
   "outputs": [
    {
     "data": {
      "text/plain": [
       "(torch.Size([2, 2, 2]),\n",
       " tensor([[[1, 2],\n",
       "          [5, 6]],\n",
       " \n",
       "         [[3, 4],\n",
       "          [7, 8]]]))"
      ]
     },
     "execution_count": 103,
     "metadata": {},
     "output_type": "execute_result"
    }
   ],
   "source": [
    "s2=torch.stack([x,y],dim=1) #  두 번째 축에 쌓음 → 각 행마다 x, y의 행을 묶음\n",
    "s2.shape, s2"
   ]
  },
  {
   "cell_type": "code",
   "execution_count": 104,
   "id": "8ebde6e6-f103-49b2-8a88-588a0a442f7e",
   "metadata": {},
   "outputs": [
    {
     "data": {
      "text/plain": [
       "(torch.Size([2, 2, 2]),\n",
       " tensor([[[1, 5],\n",
       "          [2, 6]],\n",
       " \n",
       "         [[3, 7],\n",
       "          [4, 8]]]))"
      ]
     },
     "execution_count": 104,
     "metadata": {},
     "output_type": "execute_result"
    }
   ],
   "source": [
    "s3=torch.stack([x,y],dim=2) # 세 번째 축에 쌓음 → 각 원소 위치별로 x와 y를 함께 묶음\n",
    "s3.shape, s3"
   ]
  }
 ],
 "metadata": {
  "kernelspec": {
   "display_name": "Python 3 (ipykernel)",
   "language": "python",
   "name": "python3"
  },
  "language_info": {
   "codemirror_mode": {
    "name": "ipython",
    "version": 3
   },
   "file_extension": ".py",
   "mimetype": "text/x-python",
   "name": "python",
   "nbconvert_exporter": "python",
   "pygments_lexer": "ipython3",
   "version": "3.12.3"
  }
 },
 "nbformat": 4,
 "nbformat_minor": 5
}
