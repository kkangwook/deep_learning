{
 "cells": [
  {
   "attachments": {
    "e82aa3a3-3597-460e-9cfc-713c5036962f.png": {
     "image/png": "[encoded data removed]"
    }
   },
   "cell_type": "markdown",
   "id": "9cc07a30-5108-4e20-8a68-3b87260d8b42",
   "metadata": {},
   "source": [
    "# *선형회귀의 가설=선형방정식 \n",
    "![image.png](attachment:e82aa3a3-3597-460e-9cfc-713c5036962f.png)  \n",
    "- w는 가중치, b는 편향"
   ]
  },
  {
   "attachments": {
    "e8912aa9-d38c-4013-94d4-eb002ef13483.png": {
     "image/png": "[encoded data removed]"
    }
   },
   "cell_type": "markdown",
   "id": "455ffcc1-bdac-4b02-b0d1-9718d0a7da83",
   "metadata": {},
   "source": [
    "# *비용함수(cost function)\n",
    "![image.png](attachment:e8912aa9-d38c-4013-94d4-eb002ef13483.png)\n",
    "- mse, mae등"
   ]
  },
  {
   "attachments": {
    "bb54ebcf-cf30-459c-941c-f66ff3eed030.png": {
     "image/png": "[encoded data removed]"
    }
   },
   "cell_type": "markdown",
   "id": "dd49da34-33c5-4a1b-b6dc-d1515d369d10",
   "metadata": {},
   "source": [
    "# *옵티마이저: 경사하강법으로\n",
    "- 옵티마이저(Optimizer) 알고리즘: 비용함수를 최소로 하는 w와 b 찾는 알고리즘  \n",
    "![image.png](attachment:bb54ebcf-cf30-459c-941c-f66ff3eed030.png)\n",
    "- W는 기울기, alpha는 학습률, 나머지는 미분값"
   ]
  },
  {
   "cell_type": "markdown",
   "id": "6129a212-ad23-498e-a258-78c1047f7e91",
   "metadata": {},
   "source": [
    "---\n",
    "# 구현해보기\n",
    "---"
   ]
  },
  {
   "cell_type": "code",
   "execution_count": 1,
   "id": "f94aa259-1ea4-4b6d-97d3-6bb48180f3bb",
   "metadata": {},
   "outputs": [
    {
     "data": {
      "text/plain": [
       "<torch._C.Generator at 0x14a25028730>"
      ]
     },
     "execution_count": 1,
     "metadata": {},
     "output_type": "execute_result"
    }
   ],
   "source": [
    "import torch\n",
    "import torch.nn as nn # 신경망 레이어들과 모델 구조를 정의하는 클래스들 모여있음\n",
    "import torch.nn.functional as F # 함수들 존재(relu, softmax, cross_entropy등)\n",
    "import torch.optim as optim # 옵티마이저들(SGD, Adam, AdamW)\n",
    "\n",
    "# 현재 실습하고 있는 파이썬 코드를 재실행해도 다음에도 같은 결과가 나오도록 랜덤 시드\n",
    "torch.manual_seed(1)"
   ]
  },
  {
   "cell_type": "markdown",
   "id": "f3d2786b-9311-465a-ac0d-3a210d8a8b00",
   "metadata": {},
   "source": [
    "### 1. 다중 회귀 데이터셋"
   ]
  },
  {
   "cell_type": "code",
   "execution_count": 8,
   "id": "b3fa47e9-4f2b-48df-93b3-e3bba54f836a",
   "metadata": {},
   "outputs": [],
   "source": [
    "x_train  =  torch.tensor([[73,  80,  75],   # (5,3)\n",
    "                          [93,  88,  93], \n",
    "                          [89,  91,  80], \n",
    "                          [96,  98,  100],   \n",
    "                          [73,  66,  70]],dtype=torch.float)  \n",
    "y_train  =  torch.tensor([[152],  [185],  [180],  [196],  [142]],  # (5,1)\n",
    "                        dtype=torch.float) "
   ]
  },
  {
   "cell_type": "markdown",
   "id": "2212979d-d1e2-47bb-90e8-a0fbcdca5b71",
   "metadata": {},
   "source": [
    "### 2. 가중치와 편향 선언 후 가설 설정\n",
    "- 특성이 n개면 가중치는 (n,1)로\n",
    "-  -> 계산하면 (샘플수,1)+b 로 나옴 -> 각 샘플의 스칼라와 y값을 비교"
   ]
  },
  {
   "cell_type": "code",
   "execution_count": 6,
   "id": "3233c826-f887-408c-b1df-b0f157a1a1c1",
   "metadata": {},
   "outputs": [],
   "source": [
    "# 가중치와 편향 선언 0으로\n",
    "W = torch.zeros((3, 1), requires_grad=True) # 학습 중에 미분을 계산해야 한다는 것을 명시하는 설정\n",
    "b = torch.zeros(1, requires_grad=True) # 값이 변할수 있다는것도 의미함"
   ]
  },
  {
   "cell_type": "code",
   "execution_count": 9,
   "id": "79fc0e28-6704-4840-8ec1-0c9e9cdf7c6a",
   "metadata": {},
   "outputs": [
    {
     "data": {
      "text/plain": [
       "tensor([[0.],\n",
       "        [0.],\n",
       "        [0.],\n",
       "        [0.],\n",
       "        [0.]], grad_fn=<AddBackward0>)"
      ]
     },
     "execution_count": 9,
     "metadata": {},
     "output_type": "execute_result"
    }
   ],
   "source": [
    "hypothesis = x_train.matmul(W) + b\n",
    "hypothesis"
   ]
  },
  {
   "cell_type": "markdown",
   "id": "0babebb9-5167-4662-be55-0c3990febd84",
   "metadata": {},
   "source": [
    "### 3. cost, optimizer 설정"
   ]
  },
  {
   "cell_type": "code",
   "execution_count": 11,
   "id": "4394426e-e4c7-449d-b02a-7cfc75e99562",
   "metadata": {},
   "outputs": [
    {
     "data": {
      "text/plain": [
       "tensor(29661.8008, grad_fn=<MeanBackward0>)"
      ]
     },
     "execution_count": 11,
     "metadata": {},
     "output_type": "execute_result"
    }
   ],
   "source": [
    "# cost설정\n",
    "cost = torch.mean((hypothesis - y_train) ** 2) \n",
    "cost"
   ]
  },
  {
   "cell_type": "code",
   "execution_count": 12,
   "id": "cc6e9e76-5588-4216-adb1-0790293a0f3f",
   "metadata": {},
   "outputs": [
    {
     "data": {
      "text/plain": [
       "(tensor([[0.2940],\n",
       "         [0.2936],\n",
       "         [0.2902]], requires_grad=True),\n",
       " tensor([0.0034], requires_grad=True))"
      ]
     },
     "execution_count": 12,
     "metadata": {},
     "output_type": "execute_result"
    }
   ],
   "source": [
    "# optimizer 설정\n",
    "optimizer = optim.SGD([W, b], lr=1e-5) # 가중치,편향넣고 학습률 설정\n",
    "\n",
    "# gradient를 0으로 초기화\n",
    "optimizer.zero_grad() \n",
    "# 비용 함수를 미분하여 gradient 계산\n",
    "cost.backward() \n",
    "# W와 b를 업데이트\n",
    "optimizer.step() \n",
    "W, b"
   ]
  },
  {
   "cell_type": "code",
   "execution_count": 13,
   "id": "518e603b-4261-4194-bbb8-82c763f3e8cf",
   "metadata": {},
   "outputs": [
    {
     "data": {
      "text/plain": [
       "tensor([[66.7178],\n",
       "        [80.1701],\n",
       "        [76.1025],\n",
       "        [86.0194],\n",
       "        [61.1565]], grad_fn=<AddBackward0>)"
      ]
     },
     "execution_count": 13,
     "metadata": {},
     "output_type": "execute_result"
    }
   ],
   "source": [
    "x_train.matmul(W) + b # 새로운 값"
   ]
  },
  {
   "cell_type": "markdown",
   "id": "e7473d60-d6c0-4430-b91a-8cdaca361d7f",
   "metadata": {},
   "source": [
    "### 4. 반복"
   ]
  },
  {
   "cell_type": "code",
   "execution_count": 14,
   "id": "6ee8f5e1-eece-4e15-acf2-b413f5449d0a",
   "metadata": {},
   "outputs": [
    {
     "name": "stdout",
     "output_type": "stream",
     "text": [
      "Epoch    0/20 hypothesis: tensor([66.7178, 80.1701, 76.1025, 86.0194, 61.1565]) Cost: 9537.694336\n",
      "Epoch    1/20 hypothesis: tensor([104.5421, 125.6208, 119.2478, 134.7862,  95.8280]) Cost: 3069.590088\n",
      "Epoch    2/20 hypothesis: tensor([125.9858, 151.3882, 143.7087, 162.4333, 115.4844]) Cost: 990.670898\n",
      "Epoch    3/20 hypothesis: tensor([138.1429, 165.9963, 157.5768, 178.1071, 126.6283]) Cost: 322.482086\n",
      "Epoch    4/20 hypothesis: tensor([145.0350, 174.2780, 165.4395, 186.9928, 132.9461]) Cost: 107.717064\n",
      "Epoch    5/20 hypothesis: tensor([148.9423, 178.9730, 169.8976, 192.0301, 136.5279]) Cost: 38.687496\n",
      "Epoch    6/20 hypothesis: tensor([151.1574, 181.6346, 172.4254, 194.8856, 138.5585]) Cost: 16.499043\n",
      "Epoch    7/20 hypothesis: tensor([152.4131, 183.1435, 173.8590, 196.5043, 139.7097]) Cost: 9.365656\n",
      "Epoch    8/20 hypothesis: tensor([153.1250, 183.9988, 174.6723, 197.4217, 140.3625]) Cost: 7.071114\n",
      "Epoch    9/20 hypothesis: tensor([153.5285, 184.4835, 175.1338, 197.9415, 140.7325]) Cost: 6.331847\n",
      "Epoch   10/20 hypothesis: tensor([153.7572, 184.7582, 175.3958, 198.2360, 140.9424]) Cost: 6.092532\n",
      "Epoch   11/20 hypothesis: tensor([153.8868, 184.9138, 175.5449, 198.4026, 141.0613]) Cost: 6.013817\n",
      "Epoch   12/20 hypothesis: tensor([153.9602, 185.0019, 175.6299, 198.4969, 141.1288]) Cost: 5.986785\n",
      "Epoch   13/20 hypothesis: tensor([154.0017, 185.0517, 175.6785, 198.5500, 141.1671]) Cost: 5.976325\n",
      "Epoch   14/20 hypothesis: tensor([154.0252, 185.0798, 175.7065, 198.5800, 141.1888]) Cost: 5.971208\n",
      "Epoch   15/20 hypothesis: tensor([154.0385, 185.0956, 175.7229, 198.5966, 141.2012]) Cost: 5.967835\n",
      "Epoch   16/20 hypothesis: tensor([154.0459, 185.1045, 175.7326, 198.6059, 141.2082]) Cost: 5.964969\n",
      "Epoch   17/20 hypothesis: tensor([154.0501, 185.1094, 175.7386, 198.6108, 141.2122]) Cost: 5.962291\n",
      "Epoch   18/20 hypothesis: tensor([154.0524, 185.1120, 175.7424, 198.6134, 141.2145]) Cost: 5.959664\n",
      "Epoch   19/20 hypothesis: tensor([154.0536, 185.1134, 175.7451, 198.6145, 141.2158]) Cost: 5.957089\n",
      "Epoch   20/20 hypothesis: tensor([154.0543, 185.1140, 175.7470, 198.6150, 141.2166]) Cost: 5.954494\n"
     ]
    }
   ],
   "source": [
    "nb_epochs = 20\n",
    "for epoch in range(nb_epochs + 1):\n",
    "\n",
    "    # H(x) 계산\n",
    "    # 편향 b는 브로드 캐스팅되어 각 샘플에 더해집니다.\n",
    "    hypothesis = x_train.matmul(W) + b\n",
    "\n",
    "    # cost 계산\n",
    "    cost = torch.mean((hypothesis - y_train) ** 2)\n",
    "\n",
    "    # cost로 H(x) 개선\n",
    "    optimizer.zero_grad() # 누적되므로 계속 초기화 해줘야함\n",
    "    cost.backward()\n",
    "    optimizer.step()\n",
    "\n",
    "    print('Epoch {:4d}/{} hypothesis: {} Cost: {:.6f}'.format(\n",
    "        epoch, nb_epochs, hypothesis.squeeze().detach(), cost.item()\n",
    "    ))"
   ]
  },
  {
   "cell_type": "markdown",
   "id": "7358ae40-eb68-4a9b-a449-4719a054c6a1",
   "metadata": {},
   "source": [
    "### 5. 예측하기"
   ]
  },
  {
   "cell_type": "code",
   "execution_count": 15,
   "id": "15025082-1cec-44c5-9cf0-7a095f11d557",
   "metadata": {},
   "outputs": [
    {
     "name": "stdout",
     "output_type": "stream",
     "text": [
      "Predicted value for input [75.0, 85.0, 72.0]: 156.80615234375\n"
     ]
    }
   ],
   "source": [
    "# 임의의 입력 값에 대한 예측\n",
    "with torch.no_grad():\n",
    "    new_input = torch.FloatTensor([[75, 85, 72]])  # 예측하고 싶은 임의의 입력\n",
    "    prediction = new_input.matmul(W) + b\n",
    "    print('Predicted value for input {}: {}'.format(new_input.squeeze().tolist(), prediction.item()))"
   ]
  },
  {
   "cell_type": "markdown",
   "id": "db6e59d9-1397-4120-a719-65e494bbfc77",
   "metadata": {},
   "source": [
    "---\n",
    "# nn.module로 구현하기\n",
    "---"
   ]
  },
  {
   "cell_type": "markdown",
   "id": "e361cee5-fa70-487e-80f0-a9acaed9e917",
   "metadata": {},
   "source": [
    "### 1. 데이터셋"
   ]
  },
  {
   "cell_type": "code",
   "execution_count": 2,
   "id": "fb6251fb-4cac-41fc-92a0-5d03a625ec6c",
   "metadata": {},
   "outputs": [],
   "source": [
    "x_train  =  torch.tensor([[73,  80,  75],   # (5,3)\n",
    "                          [93,  88,  93], \n",
    "                          [89,  91,  80], \n",
    "                          [96,  98,  100],   \n",
    "                          [73,  66,  70]],dtype=torch.float)  \n",
    "y_train  =  torch.tensor([[152],  [185],  [180],  [196],  [142]],  # (5,1)\n",
    "                        dtype=torch.float) "
   ]
  },
  {
   "cell_type": "markdown",
   "id": "35572fea-a4a3-49ee-a071-8298ce32b800",
   "metadata": {},
   "source": [
    "### 2. nn.linear(in,out)로 층 구현, F.relu로 활성화 함수\n",
    "- F.relu는 함수, nn.ReLU는 층"
   ]
  },
  {
   "cell_type": "code",
   "execution_count": 3,
   "id": "7db991ad-326e-44a6-bbba-e33bc816bc29",
   "metadata": {},
   "outputs": [],
   "source": [
    "# 특성개수,뉴런수\n",
    "fc1 = nn.Linear(3, 4)\n",
    "fc2 = nn.Linear(4, 2)\n",
    "fc3 = nn.Linear(2, 1)\n",
    "\n",
    "# 모델 만들기\n",
    "def model(x):\n",
    "    x = F.relu(fc1(x))\n",
    "    x = F.relu(fc2(x))\n",
    "    x = fc3(x)\n",
    "    return x\n",
    "\n",
    "'''\n",
    "이렇게도 가능\n",
    "model = nn.Sequential(\n",
    "    nn.Linear(3, 4),\n",
    "    nn.ReLU(),\n",
    "    nn.Linear(4, 2),\n",
    "    nn.ReLU(),\n",
    "    nn.Linear(2, 1),\n",
    "    nn.Sigmoid()  # 이진 분류용\n",
    ")\n",
    "'''"
   ]
  },
  {
   "cell_type": "markdown",
   "id": "7442d626-7b1f-4a9a-9409-47fbb2bafd48",
   "metadata": {},
   "source": [
    "### 3. optimizer와 cost"
   ]
  },
  {
   "cell_type": "code",
   "execution_count": null,
   "id": "54d4a7b8-5e3e-4f90-85fa-94e1221a86d3",
   "metadata": {},
   "outputs": [],
   "source": [
    "# cost: F함수 이용\n",
    "cost = F.mse_loss(prediction, y_train)\n",
    "\n",
    "# optimizer\n",
    "optimizer = torch.optim.Adam(\n",
    "    list(fc1.parameters()) + list(fc2.parameters()) + list(fc3.parameters()), #층별로 넣어줘야함\n",
    "    lr=0.01)"
   ]
  },
  {
   "cell_type": "markdown",
   "id": "1d549bdd-b916-4d23-be83-d47268a30c29",
   "metadata": {},
   "source": [
    "### 4. 반복해서 학습하기"
   ]
  },
  {
   "cell_type": "code",
   "execution_count": 5,
   "id": "85476755-9b76-4ed7-9e17-206d16a632e6",
   "metadata": {},
   "outputs": [
    {
     "name": "stdout",
     "output_type": "stream",
     "text": [
      "Epoch    0/100 Cost: 28341.099609\n",
      "Epoch   20/100 Cost: 14652.640625\n",
      "Epoch   40/100 Cost: 217.747101\n",
      "Epoch   60/100 Cost: 42.448196\n",
      "Epoch   80/100 Cost: 12.212589\n",
      "Epoch  100/100 Cost: 10.086611\n"
     ]
    }
   ],
   "source": [
    "nb_epochs = 100\n",
    "for epoch in range(nb_epochs+1):\n",
    "\n",
    "    # H(x) 계산\n",
    "    prediction = model(x_train)\n",
    "    # model(x_train)은 model.forward(x_train)와 동일함.\n",
    "\n",
    "    # cost 계산\n",
    "    cost = F.mse_loss(prediction, y_train) # <== 파이토치에서 제공하는 평균 제곱 오차 함수\n",
    "\n",
    "    optimizer.zero_grad() # gradient를 0으로 초기화\n",
    "    cost.backward() # 비용 함수를 미분하여 gradient 계산\n",
    "    optimizer.step() # W와 b를 업데이트\n",
    "\n",
    "    if epoch % 20 == 0:\n",
    "    # 100번마다 로그 출력\n",
    "      print('Epoch {:4d}/{} Cost: {:.6f}'.format(\n",
    "          epoch, nb_epochs, cost.item()\n",
    "      ))"
   ]
  },
  {
   "cell_type": "markdown",
   "id": "3bb530a2-e907-4f37-a51e-ac8dcbb85107",
   "metadata": {},
   "source": [
    "### 5. 예측"
   ]
  },
  {
   "cell_type": "code",
   "execution_count": 7,
   "id": "d46d19a4-17dd-49c7-8f32-885f91891942",
   "metadata": {},
   "outputs": [
    {
     "name": "stdout",
     "output_type": "stream",
     "text": [
      "훈련 후 입력이 73, 80, 75일 때의 예측값 : tensor([[153.1853]], grad_fn=<AddmmBackward0>)\n"
     ]
    }
   ],
   "source": [
    "new_var =  torch.tensor([[73, 80, 75]],dtype=torch.float) \n",
    "pred_y = model(new_var) \n",
    "print(\"훈련 후 입력이 73, 80, 75일 때의 예측값 :\", pred_y) "
   ]
  },
  {
   "cell_type": "markdown",
   "id": "9c1e9bb6-c9af-48d0-a039-03819e3d43eb",
   "metadata": {},
   "source": [
    "---\n",
    "# 클래스로 구현하기(옵티마이저 간단화)\n",
    "---"
   ]
  },
  {
   "cell_type": "markdown",
   "id": "3717dc04-50fc-4945-b182-fdf636579b55",
   "metadata": {},
   "source": [
    "### nn.module을 상속 !!!"
   ]
  },
  {
   "cell_type": "code",
   "execution_count": 8,
   "id": "832a469d-52b1-4aaa-b679-692882f715e4",
   "metadata": {},
   "outputs": [],
   "source": [
    "class mylinearmodel(nn.Module):\n",
    "    def __init__(self):\n",
    "        super(mylinearmodel, self).__init__()\n",
    "\n",
    "        # Linear layers\n",
    "        self.fc1 = nn.Linear(3, 4)   # input 3 → hidden 4\n",
    "        self.fc2 = nn.Linear(4, 2)   # hidden 4 → hidden 2\n",
    "        self.fc3 = nn.Linear(2, 1)   # hidden 2 → output 1\n",
    "\n",
    "    def forward(self, x):\n",
    "        x = F.relu(self.fc1(x))     # activation after first layer\n",
    "        x = F.relu(self.fc2(x))     # activation after second layer\n",
    "        x = self.fc3(x)             # final layer (no activation)\n",
    "        return x"
   ]
  },
  {
   "cell_type": "code",
   "execution_count": 11,
   "id": "b3a8bd35-9a3a-4955-ad8a-388466cc6bf2",
   "metadata": {},
   "outputs": [],
   "source": [
    "# 모델 생성\n",
    "model=mylinearmodel()\n",
    "\n",
    "# optimizer\n",
    "optimizer = torch.optim.Adam(model.parameters(), lr=0.01)"
   ]
  },
  {
   "cell_type": "code",
   "execution_count": 13,
   "id": "d6917f65-82cd-4434-9655-efebabe82df1",
   "metadata": {},
   "outputs": [
    {
     "name": "stdout",
     "output_type": "stream",
     "text": [
      "Epoch    0/100 Cost: 30686.556641\n",
      "Epoch   20/100 Cost: 18455.041016\n",
      "Epoch   40/100 Cost: 1257.602295\n",
      "Epoch   60/100 Cost: 333.059479\n",
      "Epoch   80/100 Cost: 57.971325\n",
      "Epoch  100/100 Cost: 9.894424\n"
     ]
    }
   ],
   "source": [
    "nb_epochs = 100\n",
    "for epoch in range(nb_epochs+1):\n",
    "    prediction = model(x_train)\n",
    "    cost = F.mse_loss(prediction, y_train) # <== 파이토치에서 제공하는 평균 제곱 오차 함수\n",
    "    optimizer.zero_grad() # gradient를 0으로 초기화\n",
    "    cost.backward() # 비용 함수를 미분하여 gradient 계산\n",
    "    optimizer.step() # W와 b를 업데이트\n",
    "\n",
    "    if epoch % 20 == 0:\n",
    "    # 100번마다 로그 출력\n",
    "      print('Epoch {:4d}/{} Cost: {:.6f}'.format(\n",
    "          epoch, nb_epochs, cost.item()\n",
    "      ))"
   ]
  },
  {
   "cell_type": "markdown",
   "id": "a631e6f2-4026-40ec-9799-f8f70b31df52",
   "metadata": {},
   "source": [
    "---\n",
    "# 배치 정해서 넣기\n",
    "---"
   ]
  },
  {
   "cell_type": "code",
   "execution_count": 14,
   "id": "a017654e-9612-4dc9-a425-b01e98ef3596",
   "metadata": {},
   "outputs": [],
   "source": [
    "from torch.utils.data import TensorDataset # 텐서데이터셋\n",
    "from torch.utils.data import DataLoader # 데이터로더"
   ]
  },
  {
   "cell_type": "code",
   "execution_count": 15,
   "id": "72fc0d28-fb09-401a-8d93-6223b26af3f9",
   "metadata": {},
   "outputs": [],
   "source": [
    "# 하나로 묶기\n",
    "dataset = TensorDataset(x_train, y_train)\n",
    "\n",
    "# 배치크기 정하고 섞기\n",
    "dataloader = DataLoader(dataset, batch_size=2, shuffle=True)"
   ]
  },
  {
   "cell_type": "code",
   "execution_count": 18,
   "id": "137f998c-4cad-41b5-a85d-8b011ab97dc5",
   "metadata": {},
   "outputs": [
    {
     "name": "stdout",
     "output_type": "stream",
     "text": [
      "Epoch    0/3 Batch 1/3 Cost: 3.099932\n",
      "Epoch    0/3 Batch 2/3 Cost: 3.874692\n",
      "Epoch    0/3 Batch 3/3 Cost: 0.055455\n",
      "Epoch    1/3 Batch 1/3 Cost: 2.418153\n",
      "Epoch    1/3 Batch 2/3 Cost: 2.226068\n",
      "Epoch    1/3 Batch 3/3 Cost: 5.377409\n",
      "Epoch    2/3 Batch 1/3 Cost: 0.019044\n",
      "Epoch    2/3 Batch 2/3 Cost: 4.777405\n",
      "Epoch    2/3 Batch 3/3 Cost: 4.884939\n",
      "Epoch    3/3 Batch 1/3 Cost: 4.293637\n",
      "Epoch    3/3 Batch 2/3 Cost: 2.699415\n",
      "Epoch    3/3 Batch 3/3 Cost: 0.009418\n"
     ]
    }
   ],
   "source": [
    "nb_epochs = 3\n",
    "for epoch in range(nb_epochs + 1):\n",
    "  for a,b in enumerate(dataloader): # a에 id b에 x,y샘플들\n",
    "    x_train, y_train = b\n",
    "    \n",
    "    prediction = model(x_train)\n",
    "    cost = F.mse_loss(prediction, y_train)\n",
    "    optimizer.zero_grad()\n",
    "    cost.backward()\n",
    "    optimizer.step()\n",
    "\n",
    "    print('Epoch {:4d}/{} Batch {}/{} Cost: {:.6f}'.format(\n",
    "        epoch, nb_epochs, a+1, len(dataloader),\n",
    "        cost.item()\n",
    "        ))"
   ]
  },
  {
   "cell_type": "markdown",
   "id": "053e2fab-212c-480a-806b-f12725a1965b",
   "metadata": {},
   "source": [
    "---\n",
    "---\n",
    "---\n",
    "---\n",
    "---\n",
    "# 분류"
   ]
  },
  {
   "cell_type": "markdown",
   "id": "39a7fc55-8cde-4f64-990f-6fd9b9e88ed1",
   "metadata": {},
   "source": [
    "## 1. 이진분류\n",
    "- 활성화 함수로 sigmoid와 손실함수로 BCELoss사용"
   ]
  },
  {
   "cell_type": "code",
   "execution_count": 19,
   "id": "2cf5dbd9-0959-4c96-95cf-f5a07b66b3cf",
   "metadata": {},
   "outputs": [],
   "source": [
    "import torch\n",
    "import torch.nn as nn\n",
    "import torch.nn.functional as F\n",
    "import torch.optim as optim"
   ]
  },
  {
   "cell_type": "code",
   "execution_count": 24,
   "id": "22ae7e94-b488-4b33-839b-87b929b4e12f",
   "metadata": {},
   "outputs": [
    {
     "data": {
      "text/plain": [
       "torch.Size([6, 2])"
      ]
     },
     "execution_count": 24,
     "metadata": {},
     "output_type": "execute_result"
    }
   ],
   "source": [
    "x_data = [[1, 2], [2, 3], [3, 1], [4, 3], [5, 3], [6, 2]]\n",
    "y_data = [[0], [0], [0], [1], [1], [1]]\n",
    "x_train = torch.tensor(x_data,dtype=torch.float)\n",
    "y_train = torch.tensor(y_data,dtype=torch.float)\n",
    "x_train.shape"
   ]
  },
  {
   "cell_type": "code",
   "execution_count": 25,
   "id": "073ec337-e330-4ca2-a006-712865b31245",
   "metadata": {},
   "outputs": [],
   "source": [
    "model = nn.Sequential(\n",
    "   nn.Linear(2, 4), # input_dim = 2, output_dim = 1\n",
    "   nn.ReLU(), # 중간층의 활성화\n",
    "   nn.Linear(4,1),\n",
    "   nn.Sigmoid() # 출력층에는 sigmoid\n",
    ")"
   ]
  },
  {
   "cell_type": "code",
   "execution_count": 26,
   "id": "35d8f9a0-b8b9-4914-a1d6-512619b6b5ab",
   "metadata": {},
   "outputs": [
    {
     "name": "stdout",
     "output_type": "stream",
     "text": [
      "Epoch    0/100 Cost: 1.223134 Accuracy 50.00%\n",
      "Epoch   10/100 Cost: 0.524268 Accuracy 83.33%\n",
      "Epoch   20/100 Cost: 0.442887 Accuracy 83.33%\n",
      "Epoch   30/100 Cost: 0.391773 Accuracy 83.33%\n",
      "Epoch   40/100 Cost: 0.353067 Accuracy 83.33%\n",
      "Epoch   50/100 Cost: 0.322972 Accuracy 83.33%\n",
      "Epoch   60/100 Cost: 0.298525 Accuracy 83.33%\n",
      "Epoch   70/100 Cost: 0.277839 Accuracy 83.33%\n",
      "Epoch   80/100 Cost: 0.257937 Accuracy 83.33%\n",
      "Epoch   90/100 Cost: 0.240060 Accuracy 83.33%\n",
      "Epoch  100/100 Cost: 0.222663 Accuracy 83.33%\n"
     ]
    }
   ],
   "source": [
    "# optimizer 설정\n",
    "optimizer = optim.SGD(model.parameters(), lr=0.1)\n",
    "\n",
    "# cost설정\n",
    "criterion=nn.BCELoss()\n",
    "\n",
    "nb_epochs = 100\n",
    "for epoch in range(nb_epochs + 1):\n",
    "    hypothesis = model(x_train)\n",
    "    cost = criterion(hypothesis, y_train)\n",
    "# BCEWithLogitsLoss 요즘 많이 쓰고 이거 쓸려면 마지막 층에 sigmoid층 제거해주면 됨(그냥 logits값 나오게)\n",
    "\n",
    "    optimizer.zero_grad()\n",
    "    cost.backward()\n",
    "    optimizer.step()\n",
    "\n",
    "    # 20번마다 로그 출력\n",
    "    if epoch % 10 == 0:\n",
    "        prediction = hypothesis >= torch.FloatTensor([0.5]) # 예측값이 0.5를 넘으면 True로 간주\n",
    "        correct_prediction = prediction.float() == y_train # 실제값과 일치하는 경우만 True로 간주\n",
    "        accuracy = correct_prediction.sum().item() / len(correct_prediction) # 정확도를 계산\n",
    "        print('Epoch {:4d}/{} Cost: {:.6f} Accuracy {:2.2f}%'.format( # 각 에포크마다 정확도를 출력\n",
    "            epoch, nb_epochs, cost.item(), accuracy * 100,\n",
    "        ))"
   ]
  },
  {
   "cell_type": "markdown",
   "id": "eaf20286-d16f-40f7-973f-ebf4fe4056d2",
   "metadata": {},
   "source": [
    "### 예측"
   ]
  },
  {
   "cell_type": "code",
   "execution_count": 28,
   "id": "8869f287-f467-41f2-8ca7-7bde5ba1004a",
   "metadata": {},
   "outputs": [
    {
     "data": {
      "text/plain": [
       "tensor([[0.0517],\n",
       "        [0.1028],\n",
       "        [0.5220],\n",
       "        [0.7743],\n",
       "        [0.8925],\n",
       "        [0.9463]], grad_fn=<SigmoidBackward0>)"
      ]
     },
     "execution_count": 28,
     "metadata": {},
     "output_type": "execute_result"
    }
   ],
   "source": [
    "model(x_train) # 0.5보다 크면 클래스 1"
   ]
  },
  {
   "cell_type": "markdown",
   "id": "520ddfca-4895-402c-882c-f26894940967",
   "metadata": {},
   "source": [
    "### 파라미터"
   ]
  },
  {
   "cell_type": "code",
   "execution_count": 30,
   "id": "c1d98c92-7299-4822-a6d0-4ba15d6099f4",
   "metadata": {},
   "outputs": [
    {
     "name": "stdout",
     "output_type": "stream",
     "text": [
      "[Parameter containing:\n",
      "tensor([[-0.2195,  0.2381],\n",
      "        [ 0.6391,  0.3428],\n",
      "        [-0.7886,  1.0457],\n",
      "        [ 0.5006,  0.5250]], requires_grad=True), Parameter containing:\n",
      "tensor([ 0.8958, -1.1076, -0.0180,  0.6821], requires_grad=True), Parameter containing:\n",
      "tensor([[-0.8068,  1.2746, -1.0593, -0.2169]], requires_grad=True), Parameter containing:\n",
      "tensor([-0.4097], requires_grad=True)]\n"
     ]
    }
   ],
   "source": [
    "print(list(model.parameters()))"
   ]
  },
  {
   "cell_type": "markdown",
   "id": "330c71bf-e018-4e2a-a0b3-bcb3eabd4174",
   "metadata": {},
   "source": [
    "## *클래스 사용 버전"
   ]
  },
  {
   "cell_type": "code",
   "execution_count": 31,
   "id": "171596bc-b9b3-4eaf-8c4b-ed34e9ff84c1",
   "metadata": {},
   "outputs": [],
   "source": [
    "class BinaryClassifier(nn.Module):\n",
    "    def __init__(self):\n",
    "        super().__init__()\n",
    "        self.fc1 = nn.Linear(2, 4)   # input_dim = 2 → hidden_dim = 4\n",
    "        self.fc2 = nn.Linear(4, 1)   # hidden_dim = 4 → output_dim = 1\n",
    "        self.sigmoid = nn.Sigmoid() # 출력층 활성화\n",
    "\n",
    "    def forward(self, x):\n",
    "        x = F.relu(self.fc1(x))      # 중간층 활성화\n",
    "        x = self.fc2(x)\n",
    "        x = self.sigmoid(x)          # 출력층 sigmoid\n",
    "        return x\n",
    "\n",
    "model=BinaryClassifier()\n",
    "# 이후 반복해서 학습"
   ]
  },
  {
   "cell_type": "markdown",
   "id": "80680df2-3820-4ca6-bfcb-15e4869cf578",
   "metadata": {},
   "source": [
    "## 2. 다중분류\n",
    "- softmax와 CrossEntropyLoss사용\n",
    "- 정답은 주로 정수인코딩 사용 !!!!\n",
    "- 원핫인코딩은 권장X"
   ]
  },
  {
   "cell_type": "code",
   "execution_count": 39,
   "id": "fc4eb02f-bb13-4c18-bf02-cdf93bff2f88",
   "metadata": {},
   "outputs": [
    {
     "data": {
      "text/plain": [
       "torch.Size([8, 4])"
      ]
     },
     "execution_count": 39,
     "metadata": {},
     "output_type": "execute_result"
    }
   ],
   "source": [
    "x_train = [[1, 2, 1, 1],\n",
    "           [2, 1, 3, 2],\n",
    "           [3, 1, 3, 4],\n",
    "           [4, 1, 5, 5],\n",
    "           [1, 7, 5, 5],\n",
    "           [1, 2, 5, 6],\n",
    "           [1, 6, 6, 6],\n",
    "           [1, 7, 7, 7]]\n",
    "y_train = [2, 2, 2, 1, 1, 1, 0, 0]\n",
    "x_train = torch.tensor(x_train,dtype=torch.float)\n",
    "y_train = torch.tensor(y_train) #nn.CrossEntropyLoss()는 정답 라벨(y_train)이 정수 인덱스여야 함\n",
    "x_train.shape"
   ]
  },
  {
   "cell_type": "code",
   "execution_count": 40,
   "id": "b5828124-b790-4962-9e00-3e9c46ce85ec",
   "metadata": {},
   "outputs": [],
   "source": [
    "# softmax층 필요x !!!!\n",
    "model = nn.Sequential(\n",
    "    nn.Linear(4, 4),     # input_dim = 4 → hidden_dim = 4\n",
    "    nn.ReLU(),\n",
    "    nn.Linear(4, 3)      # hidden_dim = 4 → output_dim = 3 (3개 클래스)\n",
    "    # ❌ Softmax 넣지 마세요! CrossEntropyLoss가 내부적으로 처리함\n",
    ")"
   ]
  },
  {
   "cell_type": "code",
   "execution_count": 42,
   "id": "2efa94f3-298a-4a1f-8023-5d816c074311",
   "metadata": {},
   "outputs": [
    {
     "name": "stdout",
     "output_type": "stream",
     "text": [
      "Epoch    0/500 Cost: 0.452129\n",
      "Epoch  100/500 Cost: 0.318565\n",
      "Epoch  200/500 Cost: 0.199543\n",
      "Epoch  300/500 Cost: 0.132486\n",
      "Epoch  400/500 Cost: 0.094908\n",
      "Epoch  500/500 Cost: 0.069089\n"
     ]
    }
   ],
   "source": [
    "# optimizer 설정\n",
    "optimizer = optim.SGD(model.parameters(), lr=0.1)\n",
    "\n",
    "# cost설정\n",
    "criterion = nn.CrossEntropyLoss()\n",
    "\n",
    "nb_epochs = 500\n",
    "for epoch in range(nb_epochs + 1):\n",
    "\n",
    "    prediction = model(x_train)\n",
    "    cost = criterion(prediction, y_train)\n",
    "\n",
    "    optimizer.zero_grad()\n",
    "    cost.backward()\n",
    "    optimizer.step()\n",
    "\n",
    "    # 20번마다 로그 출력\n",
    "    if epoch % 100 == 0:\n",
    "        print('Epoch {:4d}/{} Cost: {:.6f}'.format(\n",
    "            epoch, nb_epochs, cost.item()\n",
    "        ))"
   ]
  },
  {
   "cell_type": "markdown",
   "id": "6cad8c58-464e-4b8c-a431-dd91868eac55",
   "metadata": {},
   "source": [
    "## *class버전"
   ]
  },
  {
   "cell_type": "code",
   "execution_count": 43,
   "id": "525526b6-fe5c-44df-83f1-bbea1c6faab4",
   "metadata": {},
   "outputs": [],
   "source": [
    "# 직접 숫자넣거나 객체 만들때 넣을수도 있음\n",
    "class MultiClassClassifier(nn.Module):\n",
    "    def __init__(self, input_dim=2, hidden_dim=4, num_classes=3):\n",
    "        super().__init__()\n",
    "        self.fc1 = nn.Linear(input_dim, hidden_dim)\n",
    "        self.fc2 = nn.Linear(hidden_dim, num_classes)\n",
    "\n",
    "    def forward(self, x):\n",
    "        x = F.relu(self.fc1(x))\n",
    "        x = self.fc2(x)  # Softmax 없이 로짓 출력\n",
    "        return x\n",
    "\n",
    "model=MultiClassClassifier()"
   ]
  },
  {
   "cell_type": "markdown",
   "id": "feb3e3b6-ecb4-45bb-a984-58e8b0486394",
   "metadata": {},
   "source": [
    "## 평가,검증점수 확인 방법"
   ]
  },
  {
   "cell_type": "code",
   "execution_count": null,
   "id": "b29a3560-dc60-4d40-b559-bd64bea28a3a",
   "metadata": {},
   "outputs": [],
   "source": [
    "# 함수 생성\n",
    "def evaluate(model, criterion, data_loader, device):\n",
    "    model.eval()  # 평가 모드로 전환\n",
    "    total_loss = 0.0\n",
    "    total_correct = 0\n",
    "    total_samples = 0\n",
    "\n",
    "    with torch.no_grad(): # 가중치 계산을 끄겠다-> 평가만\n",
    "        for x_batch, y_batch in data_loader:\n",
    "            x_batch, y_batch = x_batch.to(device), y_batch.to(device)\n",
    "\n",
    "            outputs = model(x_batch)\n",
    "            loss = criterion(outputs, y_batch)\n",
    "            total_loss += loss.item() * x_batch.size(0)  # 배치 크기 곱해서 합산\n",
    "\n",
    "            preds = torch.argmax(outputs, dim=1)\n",
    "            total_correct += (preds == y_batch).sum().item()\n",
    "            total_samples += x_batch.size(0)\n",
    "\n",
    "    avg_loss = total_loss / total_samples\n",
    "    accuracy = total_correct / total_samples\n",
    "\n",
    "    return avg_loss, accuracy"
   ]
  },
  {
   "cell_type": "code",
   "execution_count": null,
   "id": "1147fbd6-a624-450b-8903-fc77d026b8f8",
   "metadata": {},
   "outputs": [],
   "source": [
    "# 사용법\n",
    "\n",
    "# device 설정\n",
    "device = torch.device(\"cuda\" if torch.cuda.is_available() else \"cpu\")\n",
    "\n",
    "model.to(device)\n",
    "criterion = nn.CrossEntropyLoss()\n",
    "\n",
    "# 예: DataLoader가 준비되어 있다고 가정\n",
    "val_loss, val_acc = evaluate(model, criterion, val_loader, device)\n",
    "print(f\"Validation Loss: {val_loss:.4f}, Accuracy: {val_acc*100:.2f}%\")"
   ]
  },
  {
   "cell_type": "markdown",
   "id": "98a4e7d3-966f-4457-aa7e-b2ca12eec283",
   "metadata": {},
   "source": [
    "## model.eval() 후에는 학습 모드(model.train())로 반드시 복귀해야 함"
   ]
  }
 ],
 "metadata": {
  "kernelspec": {
   "display_name": "Python 3 (ipykernel)",
   "language": "python",
   "name": "python3"
  },
  "language_info": {
   "codemirror_mode": {
    "name": "ipython",
    "version": 3
   },
   "file_extension": ".py",
   "mimetype": "text/x-python",
   "name": "python",
   "nbconvert_exporter": "python",
   "pygments_lexer": "ipython3",
   "version": "3.12.3"
  }
 },
 "nbformat": 4,
 "nbformat_minor": 5
}
